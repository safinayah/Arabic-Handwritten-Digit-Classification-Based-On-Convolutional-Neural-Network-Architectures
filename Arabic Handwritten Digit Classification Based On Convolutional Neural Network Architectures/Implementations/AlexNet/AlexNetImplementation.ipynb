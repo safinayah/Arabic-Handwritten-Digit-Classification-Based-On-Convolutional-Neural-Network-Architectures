{
 "cells": [
  {
   "metadata": {},
   "cell_type": "markdown",
   "source": [
    "This model based on the architecture mentioned here https://docs.google.com/document/d/1iWhJiMT9pgWqYA_3-iRyvQ1DwlhV3hGdR-pinZiiHfk/edit\n"
   ]
  },
  {
   "metadata": {
    "trusted": true,
    "_cell_guid": "5fd4baff-2e95-455c-abcc-05f12c1b2939",
    "_uuid": "e0b70ff807dd80c7f19bacb6416f5e5504b21e78"
   },
   "cell_type": "code",
   "source": [
    "from __future__ import division, print_function, absolute_import\n",
    "\n",
    "import numpy as np # linear algebra\n",
    "import pandas as pd # data processing, CSV file I/O (e.g. pd.read_csv)\n",
    "import tensorflow as tf\n",
    "import keras\n",
    "import keras.layers as layers\n",
    "from keras.models import Sequential\n",
    "from keras.preprocessing.image import ImageDataGenerator\n",
    "from keras.utils.np_utils import to_categorical\n",
    "from keras.callbacks import TensorBoard"
   ],
   "execution_count": null,
   "outputs": []
  },
  {
   "metadata": {
    "trusted": true,
    "_cell_guid": "1a4289ad-24e5-4b8e-9ae8-cd5c66ddd31c",
    "_uuid": "c491d12088b64a83824a5381b991a1244cce2f7c"
   },
   "cell_type": "code",
   "source": [
    "# read training & testing data\n",
    "\n",
    "\n",
    "#  trainImg = pd.read_csv(\"/Your/dataset/training/file/in/csv/form\", header=None)\n",
    "# trainLabel = pd.read_csv(\"/Your/dataset/training/labels/in/csv/form\", header=None)\n",
    "# testImg = pd.read_csv(\"/Your/dataset/teastinf/file/in/csv/form\", header=None)\n",
    "# testLabel = pd.read_csv(\"/Your/dataset/testing/labels/in/csv/form\", header=None)\n"
   ],
   "execution_count": null,
   "outputs": []
  },
  {
   "metadata": {
    "trusted": true,
    "_cell_guid": "33d18e43-9ae9-413d-8c7c-b7f7d792f75f",
    "_uuid": "c018e5c1399be52371d8fa9937c9186f74fc7ee7"
   },
   "cell_type": "code",
   "source": [
    "trainImg.head()"
   ],
   "execution_count": null,
   "outputs": []
  },
  {
   "metadata": {
    "trusted": true,
    "_cell_guid": "d1c1755c-d8d9-449e-9b34-21831e699165",
    "_uuid": "aa4996d5d0e136513818e163efe926159efe95c1"
   },
   "cell_type": "code",
   "source": [
    "testImg.head()"
   ],
   "execution_count": null,
   "outputs": []
  },
  {
   "metadata": {
    "trusted": true,
    "_cell_guid": "117e1fd4-1d52-4e29-89b7-615d7dcfb1d4",
    "_uuid": "f4a3c5238658ef2cdf220d30bdc4e92951ada78d"
   },
   "cell_type": "code",
   "source": [
    "# Split data into training set and validation set\n",
    "#training images\n",
    "trainImg = trainImg.values.astype('float32') /255.0\n",
    "#training labels\n",
    "trainLabel = trainLabel.values.astype('int32') \n",
    "\n",
    "#testing images\n",
    "testImg = testImg.values.astype('float32')/255.0\n",
    "#testing labels\n",
    "testLabel = testLabel.values.astype('int32')"
   ],
   "execution_count": null,
   "outputs": []
  },
  {
   "metadata": {
    "trusted": true,
    "_cell_guid": "ad856a4f-407b-4a59-b637-00d9a0c40def",
    "_uuid": "42fc7e8c46d0a06f6cb62bb504315cf4d35b47cd"
   },
   "cell_type": "code",
   "source": [
    "trainImg[0]"
   ],
   "execution_count": null,
   "outputs": []
  },
  {
   "metadata": {
    "trusted": true,
    "_cell_guid": "a55e7ab8-7464-4e9c-8cdd-74452bc80337",
    "_uuid": "29f82653a140e5fb79c267fc42fce5b71c68d30a"
   },
   "cell_type": "code",
   "source": [
    "#One Hot encoding of train labels.\n",
    "trainLabel = to_categorical(trainLabel,10)\n",
    "\n",
    "#One Hot encoding of test labels.\n",
    "testLabel = to_categorical(testLabel,10)"
   ],
   "execution_count": null,
   "outputs": []
  },
  {
   "metadata": {
    "trusted": true,
    "_cell_guid": "e6ed794b-e699-494c-a6b7-afd53914c24a",
    "_uuid": "bb35fb5df9503df7ecfc6e190bf7e7fbf816353f"
   },
   "cell_type": "code",
   "source": [
    "trainLabel[0]"
   ],
   "execution_count": null,
   "outputs": []
  },
  {
   "metadata": {
    "trusted": true,
    "_cell_guid": "95ef8afa-152f-4eaa-ab0e-8e714f2892a4",
    "_uuid": "daced6601d9c8d8c09d1a6de08f4272c84d9e67d"
   },
   "cell_type": "code",
   "source": [
    "print(trainImg.shape, trainLabel.shape, testImg.shape, testLabel.shape)"
   ],
   "execution_count": null,
   "outputs": []
  },
  {
   "metadata": {
    "trusted": true,
    "_cell_guid": "a5909268-341c-4380-aca2-34b4fca8e2a2",
    "_uuid": "191d77a2044b251539c4cba939c5960ac4ac7a6d"
   },
   "cell_type": "code",
   "source": [
    "# reshape input images to 28x28x1\n",
    "trainImg = trainImg.reshape([-1, 28, 28, 1])\n",
    "testImg = testImg.reshape([-1, 28, 28, 1])"
   ],
   "execution_count": null,
   "outputs": []
  },
  {
   "metadata": {
    "trusted": true,
    "_cell_guid": "cea5a404-f4b4-4669-9050-f71f880e1841",
    "_uuid": "46c44a786443686ecdb5ce4f2b20e32439711e48"
   },
   "cell_type": "code",
   "source": [
    "print(trainImg.shape, trainLabel.shape, testImg.shape, testLabel.shape)"
   ],
   "execution_count": null,
   "outputs": []
  },
  {
   "metadata": {
    "trusted": true,
    "_cell_guid": "e7867004-68a3-4cc3-9b46-220bde3bb4ad",
    "_uuid": "539bd7b49b707b67423c54609e11c3696652c41c"
   },
   "cell_type": "code",
   "source": [
    "trainImg[0]"
   ],
   "execution_count": null,
   "outputs": []
  },
  {
   "metadata": {
    "trusted": true,
    "_cell_guid": "582fabdd-31c8-4757-aab4-787c142cb683",
    "_uuid": "12618fe9a4b70622460a43225f11561cc20446bd"
   },
   "cell_type": "code",
   "source": [
    "def alexnet(input_shape, n_classes):\n",
    "  input = Input(input_shape)\n",
    "  \n",
    "  # actually batch normalization didn't exist back then\n",
    "  # they used LRN (Local Response Normalization) for regularization\n",
    "  x = Conv2D(96, 11, strides=4, padding='same', activation='relu')(input)\n",
    "  x = BatchNormalization()(x)\n",
    "  x = MaxPool2D(3, strides=2)(x)\n",
    "  \n",
    "  x = Conv2D(256, 5, padding='same', activation='relu')(x)\n",
    "  x = BatchNormalization()(x)\n",
    "  x = MaxPool2D(3, strides=2)(x)\n",
    "  \n",
    "  x = Conv2D(384, 3, strides=1, padding='same', activation='relu')(x)\n",
    "  \n",
    "  x = Conv2D(384, 3, strides=1, padding='same', activation='relu')(x)\n",
    "  \n",
    "  x = Conv2D(256, 3, strides=1, padding='same', activation='relu')(x)\n",
    "  x = BatchNormalization()(x)\n",
    "  x = MaxPool2D(3, strides=2)(x)\n",
    "  \n",
    "  x = Flatten()(x)\n",
    "  x = Dense(4096, activation='relu')(x)\n",
    "  x = Dense(4096, activation='relu')(x)\n",
    "  \n",
    "  output = Dense(n_classes, activation='softmax')(x)\n",
    "  \n",
    "  model = Model(input, output)\n",
    "  return model"
   ],
   "execution_count": null,
   "outputs": []
  },
  {
   "metadata": {
    "trusted": true
   },
   "cell_type": "code",
   "source": [
    "input_shape = 28, 28, 1\n",
    "n_classes = 10\n",
    "\n",
    "K.clear_session()\n",
    "model = alexnet(input_shape, n_classes)\n",
    "model.summary()"
   ],
   "execution_count": null,
   "outputs": []
  },
  {
   "metadata": {
    "trusted": true
   },
   "cell_type": "code",
   "source": [
    "repetitions = 10\n",
    "input = np.random.randn(1, *input_shape)\n",
    "\n",
    "output = model.predict(input)\n",
    "start = time()\n",
    "for _ in range(repetitions):\n",
    "  output = model.predict(input)\n",
    "  \n",
    "print((time() - start) / repetitions)"
   ],
   "execution_count": null,
   "outputs": []
  },
  {
   "metadata": {
    "trusted": true
   },
   "cell_type": "code",
   "source": [
    "model.compile(loss=keras.losses.categorical_crossentropy,\n",
    "              optimizer=keras.optimizers.Adadelta(),\n",
    "              metrics=['accuracy'])"
   ],
   "execution_count": null,
   "outputs": []
  },
  {
   "metadata": {
    "trusted": true
   },
   "cell_type": "code",
   "source": [
    "\n",
    "model.fit(trainImg, trainLabel, \n",
    "          batch_size=100, epochs=1, verbose=1)"
   ],
   "execution_count": null,
   "outputs": []
  },
  {
   "metadata": {
    "trusted": true
   },
   "cell_type": "code",
   "source": [
    "print('Predict the classes: ')\n",
    "prediction = model.predict_classes(trainImg)\n",
    "print('Predicted classes: ', prediction)"
   ],
   "execution_count": null,
   "outputs": []
  },
  {
   "metadata": {
    "trusted": true,
    "_cell_guid": "e576959f-b6bf-46a0-be30-45c6daa72032",
    "_uuid": "5bd946403f91966787d52f7f1a0a61e61c86e624"
   },
   "cell_type": "code",
   "source": [
    "# Evaluate model\n",
    "score = model.evaluate(testImg, testLabel)\n",
    "print('Loss on Test set: %0.2f%%' % (score[0] * 100))\n",
    "print('Test accuarcy: %0.2f%%' % (score[1] * 100))\n",
    "\n",
    "model.save('Models/ModelName')"
   ],
   "execution_count": null,
   "outputs": []
  }
 ],
 "metadata": {
  "kernelspec": {
   "language": "python",
   "display_name": "Python 3",
   "name": "python3"
  },
  "language_info": {
   "pygments_lexer": "ipython3",
   "nbconvert_exporter": "python",
   "version": "3.6.4",
   "file_extension": ".py",
   "codemirror_mode": {
    "name": "ipython",
    "version": 3
   },
   "name": "python",
   "mimetype": "text/x-python"
  }
 },
 "nbformat": 4,
 "nbformat_minor": 4
}