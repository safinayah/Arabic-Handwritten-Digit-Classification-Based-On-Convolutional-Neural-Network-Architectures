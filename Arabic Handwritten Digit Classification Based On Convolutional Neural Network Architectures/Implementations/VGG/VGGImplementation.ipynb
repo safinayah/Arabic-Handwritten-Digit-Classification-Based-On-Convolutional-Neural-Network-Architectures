{
 "cells": [
  {
   "metadata": {},
   "cell_type": "markdown",
   "source": [
    " This model based on the architecture mentioned here https://docs.google.com/document/d/1iWhJiMT9pgWqYA_3-iRyvQ1DwlhV3hGdR-pinZiiHfk/edit\n"
   ]
  },
  {
   "metadata": {
    "_uuid": "8f2839f25d086af736a60e9eeb907d3b93b6e0e5",
    "_cell_guid": "b1076dfc-b9ad-4769-8c92-a6c4dae69d19",
    "trusted": true
   },
   "cell_type": "code",
   "source": [
    "from __future__ import division, print_function, absolute_import\n",
    "\n",
    "import numpy as np # linear algebra\n",
    "import pandas as pd # data processing, CSV file I/O (e.g. pd.read_csv)\n",
    "import tensorflow as tf\n",
    "\n",
    "import keras\n",
    "\n",
    "import keras.layers as layers\n",
    "from keras.models import Sequential\n",
    "from keras.preprocessing.image import ImageDataGenerator\n",
    "from keras.utils.np_utils import to_categorical\n",
    "\n",
    "import keras.backend as K\n",
    "from keras.models import Model\n",
    "from keras.layers import Input, Dense, Conv2D, Conv3D, DepthwiseConv2D, SeparableConv2D, Conv3DTranspose\n",
    "from keras.layers import Flatten, MaxPool2D, AvgPool2D, GlobalAvgPool2D, UpSampling2D, BatchNormalization\n",
    "from keras.layers import Concatenate, Add, Dropout, ReLU, Lambda, Activation, LeakyReLU, PReLU\n",
    "\n",
    "from IPython.display import SVG\n",
    "from keras.utils.vis_utils import model_to_dot\n"
   ],
   "execution_count": null,
   "outputs": []
  },
  {
   "metadata": {},
   "cell_type": "markdown",
   "source": [
    "define parameters"
   ]
  },
  {
   "metadata": {
    "trusted": true
   },
   "cell_type": "code",
   "source": [
    "\n",
    "# Load your Dataset\n",
    "trainImg = pd.read_csv(\"/Your/dataset/training/file/in/csv/form\", header=None)\n",
    "trainLabel = pd.read_csv(\"/Your/dataset/training/labels/in/csv/form\", header=None)\n",
    "testImg = pd.read_csv(\"/Your/dataset/teastinf/file/in/csv/form\", header=None)\n",
    "testLabel = pd.read_csv(\"/Your/dataset/testing/labels/in/csv/form\", header=None)\n"
   ],
   "execution_count": null,
   "outputs": []
  },
  {
   "metadata": {
    "trusted": true
   },
   "cell_type": "code",
   "source": [
    "trainImg.head()"
   ],
   "execution_count": null,
   "outputs": []
  },
  {
   "metadata": {
    "trusted": true
   },
   "cell_type": "code",
   "source": [
    "testImg.head()"
   ],
   "execution_count": null,
   "outputs": []
  },
  {
   "metadata": {
    "trusted": true
   },
   "cell_type": "code",
   "source": [
    "#training images\n",
    "trainImg = trainImg.values.astype('float32') /255.0\n",
    "#training labels\n",
    "trainLabel = trainLabel.values.astype('int32') \n",
    "\n",
    "#testing images\n",
    "testImg = testImg.values.astype('int32')/255.0\n",
    "#testing labels\n",
    "testLabel = testLabel.values.astype('float32')"
   ],
   "execution_count": null,
   "outputs": []
  },
  {
   "metadata": {
    "trusted": true
   },
   "cell_type": "code",
   "source": [
    "trainImg[0]"
   ],
   "execution_count": null,
   "outputs": []
  },
  {
   "metadata": {
    "trusted": true
   },
   "cell_type": "code",
   "source": [
    "#One Hot encoding of train labels.\n",
    "trainLabel = to_categorical(trainLabel,10)\n",
    "\n",
    "#One Hot encoding of test labels.\n",
    "testLabel = to_categorical(testLabel,10)\n"
   ],
   "execution_count": null,
   "outputs": []
  },
  {
   "metadata": {
    "trusted": true
   },
   "cell_type": "code",
   "source": [
    "trainLabel[0]"
   ],
   "execution_count": null,
   "outputs": []
  },
  {
   "metadata": {
    "trusted": true
   },
   "cell_type": "code",
   "source": [
    "print(trainImg.shape, trainLabel.shape, testImg.shape, testLabel.shape)"
   ],
   "execution_count": null,
   "outputs": []
  },
  {
   "metadata": {
    "trusted": true
   },
   "cell_type": "code",
   "source": [
    "# reshape input images to 28x28x1\n",
    "trainImg = trainImg.reshape([-1, 28, 28, 1])\n",
    "testImg = testImg.reshape([-1, 28, 28, 1])"
   ],
   "execution_count": null,
   "outputs": []
  },
  {
   "metadata": {
    "trusted": true
   },
   "cell_type": "code",
   "source": [
    "print(trainImg.shape, trainLabel.shape, testImg.shape, testLabel.shape)"
   ],
   "execution_count": null,
   "outputs": []
  },
  {
   "metadata": {
    "trusted": true
   },
   "cell_type": "code",
   "source": [
    "\n",
    "\n",
    "# reshape input images to 28x28x1\n",
    "trainImg = trainImg.reshape([-1, 28, 28, 1])\n",
    "testImg = testImg.reshape([-1, 28, 28, 1])\n",
    "\n"
   ],
   "execution_count": null,
   "outputs": []
  },
  {
   "metadata": {
    "trusted": true
   },
   "cell_type": "code",
   "source": [
    "trainImg[0]"
   ],
   "execution_count": null,
   "outputs": []
  },
  {
   "metadata": {
    "_uuid": "d629ff2d2480ee46fbb7e2d37f6b5fab8052498a",
    "_cell_guid": "79c7e3d0-c299-4dcb-8224-4455121ee9b0",
    "trusted": true
   },
   "cell_type": "code",
   "source": [
    "def vgg(input_shape, n_classes):\n",
    "  \n",
    "  input = Input(input_shape)\n",
    "  \n",
    "  x = Conv2D(64, 3, padding='same', activation='relu')(input)\n",
    "  x = Conv2D(64, 3, padding='same', activation='relu')(x)\n",
    "  x = MaxPool2D(2, strides=2, padding='same')(x)\n",
    "  \n",
    "  x = Conv2D(128, 3, padding='same', activation='relu')(x)\n",
    "  x = Conv2D(128, 3, padding='same', activation='relu')(x)\n",
    "  x = MaxPool2D(2, strides=2, padding='same')(x)\n",
    "  \n",
    "  x = Conv2D(256, 3, padding='same', activation='relu')(x)\n",
    "  x = Conv2D(256, 3, padding='same', activation='relu')(x)\n",
    "  x = Conv2D(256, 3, padding='same', activation='relu')(x)\n",
    "  x = MaxPool2D(2, strides=2, padding='same')(x)\n",
    "  \n",
    "  x = Conv2D(512, 3, padding='same', activation='relu')(x)\n",
    "  x = Conv2D(512, 3, padding='same', activation='relu')(x)\n",
    "  x = Conv2D(512, 3, padding='same', activation='relu')(x)\n",
    "  x = MaxPool2D(2, strides=2, padding='same')(x)\n",
    "  \n",
    "  x = Conv2D(512, 3, padding='same', activation='relu')(x)\n",
    "  x = Conv2D(512, 3, padding='same', activation='relu')(x)\n",
    "  x = Conv2D(512, 3, padding='same', activation='relu')(x)\n",
    "  x = MaxPool2D(2, strides=2, padding='same')(x)\n",
    "  \n",
    "  x = Flatten()(x)\n",
    "  x = Dense(4096, activation='relu')(x)\n",
    "  x = Dense(4096, activation='relu')(x)\n",
    "  \n",
    "  output = Dense(n_classes, activation='softmax')(x)\n",
    "  \n",
    "  model = Model(input, output)\n",
    "  return model"
   ],
   "execution_count": null,
   "outputs": []
  },
  {
   "metadata": {
    "trusted": true
   },
   "cell_type": "code",
   "source": [
    "inputShape = 28,28,1\n",
    "nOfClasses=10\n",
    "K.clear_session()\n",
    "model = vgg(inputShape, nOfClasses)\n",
    "model.summary()"
   ],
   "execution_count": null,
   "outputs": []
  },
  {
   "metadata": {
    "trusted": true
   },
   "cell_type": "code",
   "source": [
    " SVG(model_to_dot(model).create(prog='dot', format='svg'))\n"
   ],
   "execution_count": null,
   "outputs": []
  },
  {
   "metadata": {
    "trusted": true
   },
   "cell_type": "code",
   "source": [
    "model.compile(loss=keras.losses.categorical_crossentropy,\n",
    "              optimizer=keras.optimizers.Adadelta(),\n",
    "#               metrics=['accuracy'])"
   ],
   "execution_count": null,
   "outputs": []
  },
  {
   "metadata": {
    "trusted": true
   },
   "cell_type": "code",
   "source": [
    "model.fit(trainImg, trainLabel,batch_size=100, epochs=5, verbose=1)\n"
   ],
   "execution_count": null,
   "outputs": []
  },
  {
   "metadata": {
    "trusted": true
   },
   "cell_type": "code",
   "source": [
    "# Evaluate model\n",
    "score = model.evaluate(testImg, testLabel)\n",
    "print('loss : %0.2f%%' % (score[0] * 100))\n",
    "print('test accuarcy: %0.2f%%' % (score[1] * 100))\n",
    "model.save('Models/ModelName')"
   ],
   "execution_count": null,
   "outputs": []
  }
 ],
 "metadata": {
  "kernelspec": {
   "language": "python",
   "display_name": "Python 3",
   "name": "python3"
  },
  "language_info": {
   "pygments_lexer": "ipython3",
   "nbconvert_exporter": "python",
   "version": "3.6.4",
   "file_extension": ".py",
   "codemirror_mode": {
    "name": "ipython",
    "version": 3
   },
   "name": "python",
   "mimetype": "text/x-python"
  }
 },
 "nbformat": 4,
 "nbformat_minor": 4
}